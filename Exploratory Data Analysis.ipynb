{
 "cells": [
  {
   "cell_type": "markdown",
   "metadata": {
    "papermill": {
     "duration": 0.053268,
     "end_time": "2020-09-27T15:26:30.617167",
     "exception": false,
     "start_time": "2020-09-27T15:26:30.563899",
     "status": "completed"
    },
    "tags": []
   },
   "source": [
    "# Exploratory Data Analysis"
   ]
  },
  {
   "cell_type": "markdown",
   "metadata": {
    "papermill": {
     "duration": 0.050687,
     "end_time": "2020-09-27T15:26:30.821619",
     "exception": false,
     "start_time": "2020-09-27T15:26:30.770932",
     "status": "completed"
    },
    "tags": []
   },
   "source": [
    "This notebook provides the exploratory data analysis of the MovieLens dataset.\n",
    "\n",
    "Data sources: the movies_metadata.csv is from [Kaggle](https://www.kaggle.com/rounakbanik/the-movies-dataset). The detailed information can be found in the linked.\n",
    "\n",
    "Brief introduction: the movies_metadata.csv contains metadata for all 45,000 movies listed in the Full MovieLens Dataset that are released on or before July 2017."
   ]
  },
  {
   "cell_type": "markdown",
   "metadata": {
    "papermill": {
     "duration": 0.050214,
     "end_time": "2020-09-27T15:26:51.497137",
     "exception": false,
     "start_time": "2020-09-27T15:26:51.446923",
     "status": "completed"
    },
    "tags": []
   },
   "source": [
    "<hr style=\"height:5px; border-radius:10px; background: linear-gradient(to right, #0F2027, #203A43, #2C5364);\"> </hr>"
   ]
  },
  {
   "cell_type": "markdown",
   "metadata": {
    "papermill": {
     "duration": 0.050498,
     "end_time": "2020-09-27T15:26:51.599078",
     "exception": false,
     "start_time": "2020-09-27T15:26:51.548580",
     "status": "completed"
    },
    "tags": []
   },
   "source": [
    "## Exploratory Data Analysis <a id='C5'></a>"
   ]
  },
  {
   "cell_type": "markdown",
   "metadata": {
    "papermill": {
     "duration": 0.051161,
     "end_time": "2020-09-27T15:26:51.703154",
     "exception": false,
     "start_time": "2020-09-27T15:26:51.651993",
     "status": "completed"
    },
    "tags": []
   },
   "source": [
    "### Imports Libraries <a id='C8'></a>"
   ]
  },
  {
   "cell_type": "code",
   "execution_count": 1,
   "metadata": {
    "execution": {
     "iopub.execute_input": "2020-09-27T15:26:51.811954Z",
     "iopub.status.busy": "2020-09-27T15:26:51.811256Z",
     "iopub.status.idle": "2020-09-27T15:26:52.993627Z",
     "shell.execute_reply": "2020-09-27T15:26:52.992981Z"
    },
    "papermill": {
     "duration": 1.23971,
     "end_time": "2020-09-27T15:26:52.993779",
     "exception": false,
     "start_time": "2020-09-27T15:26:51.754069",
     "status": "completed"
    },
    "tags": []
   },
   "outputs": [],
   "source": [
    "import numpy as np\n",
    "import pandas as pd\n",
    "import re\n",
    "import matplotlib.pyplot as plt\n",
    "import seaborn as sns\n",
    "import bar_chart_race as bcr\n",
    "import pycountry             \n",
    "import warnings"
   ]
  },
  {
   "cell_type": "markdown",
   "metadata": {
    "papermill": {
     "duration": 0.052624,
     "end_time": "2020-09-27T15:26:53.102572",
     "exception": false,
     "start_time": "2020-09-27T15:26:53.049948",
     "status": "completed"
    },
    "tags": []
   },
   "source": [
    "<hr style=\"height:5px; border-radius:10px; background: linear-gradient(to right, #0F2027, #203A43, #2C5364);\"> </hr>"
   ]
  },
  {
   "cell_type": "markdown",
   "metadata": {
    "papermill": {
     "duration": 0.051325,
     "end_time": "2020-09-27T15:26:53.206256",
     "exception": false,
     "start_time": "2020-09-27T15:26:53.154931",
     "status": "completed"
    },
    "tags": []
   },
   "source": [
    "### Loading Data <a id='C11'></a>"
   ]
  },
  {
   "cell_type": "code",
   "execution_count": 2,
   "metadata": {
    "execution": {
     "iopub.execute_input": "2020-09-27T15:26:53.322055Z",
     "iopub.status.busy": "2020-09-27T15:26:53.321228Z",
     "iopub.status.idle": "2020-09-27T15:26:54.002591Z",
     "shell.execute_reply": "2020-09-27T15:26:54.001789Z"
    },
    "papermill": {
     "duration": 0.74393,
     "end_time": "2020-09-27T15:26:54.002740",
     "exception": false,
     "start_time": "2020-09-27T15:26:53.258810",
     "status": "completed"
    },
    "tags": []
   },
   "outputs": [],
   "source": [
    "warnings.filterwarnings('ignore')\n",
    "metadata = pd.read_csv('/Users/longhaojin/Desktop/Movie EDA/movies_metadata.csv')\n",
    "pd.set_option('display.float_format', '{:,}'.format)"
   ]
  },
  {
   "cell_type": "markdown",
   "metadata": {
    "papermill": {
     "duration": 0.053987,
     "end_time": "2020-09-27T15:26:54.110791",
     "exception": false,
     "start_time": "2020-09-27T15:26:54.056804",
     "status": "completed"
    },
    "tags": []
   },
   "source": [
    "Let's look at the first five columns of the dataset."
   ]
  },
  {
   "cell_type": "code",
   "execution_count": 3,
   "metadata": {
    "execution": {
     "iopub.execute_input": "2020-09-27T15:26:54.228025Z",
     "iopub.status.busy": "2020-09-27T15:26:54.227266Z",
     "iopub.status.idle": "2020-09-27T15:26:54.271313Z",
     "shell.execute_reply": "2020-09-27T15:26:54.270716Z"
    },
    "papermill": {
     "duration": 0.107382,
     "end_time": "2020-09-27T15:26:54.271464",
     "exception": false,
     "start_time": "2020-09-27T15:26:54.164082",
     "status": "completed"
    },
    "tags": []
   },
   "outputs": [
    {
     "data": {
      "text/html": [
       "<div>\n",
       "<style scoped>\n",
       "    .dataframe tbody tr th:only-of-type {\n",
       "        vertical-align: middle;\n",
       "    }\n",
       "\n",
       "    .dataframe tbody tr th {\n",
       "        vertical-align: top;\n",
       "    }\n",
       "\n",
       "    .dataframe thead th {\n",
       "        text-align: right;\n",
       "    }\n",
       "</style>\n",
       "<table border=\"1\" class=\"dataframe\">\n",
       "  <thead>\n",
       "    <tr style=\"text-align: right;\">\n",
       "      <th></th>\n",
       "      <th>adult</th>\n",
       "      <th>belongs_to_collection</th>\n",
       "      <th>budget</th>\n",
       "      <th>genres</th>\n",
       "      <th>homepage</th>\n",
       "      <th>imdb_id</th>\n",
       "      <th>original_language</th>\n",
       "      <th>original_title</th>\n",
       "      <th>overview</th>\n",
       "      <th>popularity</th>\n",
       "      <th>...</th>\n",
       "      <th>release_date</th>\n",
       "      <th>revenue</th>\n",
       "      <th>runtime</th>\n",
       "      <th>spoken_languages</th>\n",
       "      <th>status</th>\n",
       "      <th>tagline</th>\n",
       "      <th>title</th>\n",
       "      <th>video</th>\n",
       "      <th>vote_average</th>\n",
       "      <th>vote_count</th>\n",
       "    </tr>\n",
       "    <tr>\n",
       "      <th>id</th>\n",
       "      <th></th>\n",
       "      <th></th>\n",
       "      <th></th>\n",
       "      <th></th>\n",
       "      <th></th>\n",
       "      <th></th>\n",
       "      <th></th>\n",
       "      <th></th>\n",
       "      <th></th>\n",
       "      <th></th>\n",
       "      <th></th>\n",
       "      <th></th>\n",
       "      <th></th>\n",
       "      <th></th>\n",
       "      <th></th>\n",
       "      <th></th>\n",
       "      <th></th>\n",
       "      <th></th>\n",
       "      <th></th>\n",
       "      <th></th>\n",
       "      <th></th>\n",
       "    </tr>\n",
       "  </thead>\n",
       "  <tbody>\n",
       "    <tr>\n",
       "      <th>862</th>\n",
       "      <td>False</td>\n",
       "      <td>{'id': 10194, 'name': 'Toy Story Collection', ...</td>\n",
       "      <td>30000000</td>\n",
       "      <td>[{'id': 16, 'name': 'Animation'}, {'id': 35, '...</td>\n",
       "      <td>http://toystory.disney.com/toy-story</td>\n",
       "      <td>tt0114709</td>\n",
       "      <td>en</td>\n",
       "      <td>Toy Story</td>\n",
       "      <td>Led by Woody, Andy's toys live happily in his ...</td>\n",
       "      <td>21.946943</td>\n",
       "      <td>...</td>\n",
       "      <td>1995-10-30</td>\n",
       "      <td>373,554,033.0</td>\n",
       "      <td>81.0</td>\n",
       "      <td>[{'iso_639_1': 'en', 'name': 'English'}]</td>\n",
       "      <td>Released</td>\n",
       "      <td>NaN</td>\n",
       "      <td>Toy Story</td>\n",
       "      <td>False</td>\n",
       "      <td>7.7</td>\n",
       "      <td>5,415.0</td>\n",
       "    </tr>\n",
       "    <tr>\n",
       "      <th>8844</th>\n",
       "      <td>False</td>\n",
       "      <td>NaN</td>\n",
       "      <td>65000000</td>\n",
       "      <td>[{'id': 12, 'name': 'Adventure'}, {'id': 14, '...</td>\n",
       "      <td>NaN</td>\n",
       "      <td>tt0113497</td>\n",
       "      <td>en</td>\n",
       "      <td>Jumanji</td>\n",
       "      <td>When siblings Judy and Peter discover an encha...</td>\n",
       "      <td>17.015539</td>\n",
       "      <td>...</td>\n",
       "      <td>1995-12-15</td>\n",
       "      <td>262,797,249.0</td>\n",
       "      <td>104.0</td>\n",
       "      <td>[{'iso_639_1': 'en', 'name': 'English'}, {'iso...</td>\n",
       "      <td>Released</td>\n",
       "      <td>Roll the dice and unleash the excitement!</td>\n",
       "      <td>Jumanji</td>\n",
       "      <td>False</td>\n",
       "      <td>6.9</td>\n",
       "      <td>2,413.0</td>\n",
       "    </tr>\n",
       "    <tr>\n",
       "      <th>15602</th>\n",
       "      <td>False</td>\n",
       "      <td>{'id': 119050, 'name': 'Grumpy Old Men Collect...</td>\n",
       "      <td>0</td>\n",
       "      <td>[{'id': 10749, 'name': 'Romance'}, {'id': 35, ...</td>\n",
       "      <td>NaN</td>\n",
       "      <td>tt0113228</td>\n",
       "      <td>en</td>\n",
       "      <td>Grumpier Old Men</td>\n",
       "      <td>A family wedding reignites the ancient feud be...</td>\n",
       "      <td>11.7129</td>\n",
       "      <td>...</td>\n",
       "      <td>1995-12-22</td>\n",
       "      <td>0.0</td>\n",
       "      <td>101.0</td>\n",
       "      <td>[{'iso_639_1': 'en', 'name': 'English'}]</td>\n",
       "      <td>Released</td>\n",
       "      <td>Still Yelling. Still Fighting. Still Ready for...</td>\n",
       "      <td>Grumpier Old Men</td>\n",
       "      <td>False</td>\n",
       "      <td>6.5</td>\n",
       "      <td>92.0</td>\n",
       "    </tr>\n",
       "    <tr>\n",
       "      <th>31357</th>\n",
       "      <td>False</td>\n",
       "      <td>NaN</td>\n",
       "      <td>16000000</td>\n",
       "      <td>[{'id': 35, 'name': 'Comedy'}, {'id': 18, 'nam...</td>\n",
       "      <td>NaN</td>\n",
       "      <td>tt0114885</td>\n",
       "      <td>en</td>\n",
       "      <td>Waiting to Exhale</td>\n",
       "      <td>Cheated on, mistreated and stepped on, the wom...</td>\n",
       "      <td>3.859495</td>\n",
       "      <td>...</td>\n",
       "      <td>1995-12-22</td>\n",
       "      <td>81,452,156.0</td>\n",
       "      <td>127.0</td>\n",
       "      <td>[{'iso_639_1': 'en', 'name': 'English'}]</td>\n",
       "      <td>Released</td>\n",
       "      <td>Friends are the people who let you be yourself...</td>\n",
       "      <td>Waiting to Exhale</td>\n",
       "      <td>False</td>\n",
       "      <td>6.1</td>\n",
       "      <td>34.0</td>\n",
       "    </tr>\n",
       "    <tr>\n",
       "      <th>11862</th>\n",
       "      <td>False</td>\n",
       "      <td>{'id': 96871, 'name': 'Father of the Bride Col...</td>\n",
       "      <td>0</td>\n",
       "      <td>[{'id': 35, 'name': 'Comedy'}]</td>\n",
       "      <td>NaN</td>\n",
       "      <td>tt0113041</td>\n",
       "      <td>en</td>\n",
       "      <td>Father of the Bride Part II</td>\n",
       "      <td>Just when George Banks has recovered from his ...</td>\n",
       "      <td>8.387519000000001</td>\n",
       "      <td>...</td>\n",
       "      <td>1995-02-10</td>\n",
       "      <td>76,578,911.0</td>\n",
       "      <td>106.0</td>\n",
       "      <td>[{'iso_639_1': 'en', 'name': 'English'}]</td>\n",
       "      <td>Released</td>\n",
       "      <td>Just When His World Is Back To Normal... He's ...</td>\n",
       "      <td>Father of the Bride Part II</td>\n",
       "      <td>False</td>\n",
       "      <td>5.7</td>\n",
       "      <td>173.0</td>\n",
       "    </tr>\n",
       "  </tbody>\n",
       "</table>\n",
       "<p>5 rows × 23 columns</p>\n",
       "</div>"
      ],
      "text/plain": [
       "       adult                              belongs_to_collection    budget  \\\n",
       "id                                                                          \n",
       "862    False  {'id': 10194, 'name': 'Toy Story Collection', ...  30000000   \n",
       "8844   False                                                NaN  65000000   \n",
       "15602  False  {'id': 119050, 'name': 'Grumpy Old Men Collect...         0   \n",
       "31357  False                                                NaN  16000000   \n",
       "11862  False  {'id': 96871, 'name': 'Father of the Bride Col...         0   \n",
       "\n",
       "                                                  genres  \\\n",
       "id                                                         \n",
       "862    [{'id': 16, 'name': 'Animation'}, {'id': 35, '...   \n",
       "8844   [{'id': 12, 'name': 'Adventure'}, {'id': 14, '...   \n",
       "15602  [{'id': 10749, 'name': 'Romance'}, {'id': 35, ...   \n",
       "31357  [{'id': 35, 'name': 'Comedy'}, {'id': 18, 'nam...   \n",
       "11862                     [{'id': 35, 'name': 'Comedy'}]   \n",
       "\n",
       "                                   homepage    imdb_id original_language  \\\n",
       "id                                                                         \n",
       "862    http://toystory.disney.com/toy-story  tt0114709                en   \n",
       "8844                                    NaN  tt0113497                en   \n",
       "15602                                   NaN  tt0113228                en   \n",
       "31357                                   NaN  tt0114885                en   \n",
       "11862                                   NaN  tt0113041                en   \n",
       "\n",
       "                    original_title  \\\n",
       "id                                   \n",
       "862                      Toy Story   \n",
       "8844                       Jumanji   \n",
       "15602             Grumpier Old Men   \n",
       "31357            Waiting to Exhale   \n",
       "11862  Father of the Bride Part II   \n",
       "\n",
       "                                                overview        popularity  \\\n",
       "id                                                                           \n",
       "862    Led by Woody, Andy's toys live happily in his ...         21.946943   \n",
       "8844   When siblings Judy and Peter discover an encha...         17.015539   \n",
       "15602  A family wedding reignites the ancient feud be...           11.7129   \n",
       "31357  Cheated on, mistreated and stepped on, the wom...          3.859495   \n",
       "11862  Just when George Banks has recovered from his ... 8.387519000000001   \n",
       "\n",
       "       ... release_date       revenue runtime  \\\n",
       "id     ...                                      \n",
       "862    ...   1995-10-30 373,554,033.0    81.0   \n",
       "8844   ...   1995-12-15 262,797,249.0   104.0   \n",
       "15602  ...   1995-12-22           0.0   101.0   \n",
       "31357  ...   1995-12-22  81,452,156.0   127.0   \n",
       "11862  ...   1995-02-10  76,578,911.0   106.0   \n",
       "\n",
       "                                        spoken_languages    status  \\\n",
       "id                                                                   \n",
       "862             [{'iso_639_1': 'en', 'name': 'English'}]  Released   \n",
       "8844   [{'iso_639_1': 'en', 'name': 'English'}, {'iso...  Released   \n",
       "15602           [{'iso_639_1': 'en', 'name': 'English'}]  Released   \n",
       "31357           [{'iso_639_1': 'en', 'name': 'English'}]  Released   \n",
       "11862           [{'iso_639_1': 'en', 'name': 'English'}]  Released   \n",
       "\n",
       "                                                 tagline  \\\n",
       "id                                                         \n",
       "862                                                  NaN   \n",
       "8844           Roll the dice and unleash the excitement!   \n",
       "15602  Still Yelling. Still Fighting. Still Ready for...   \n",
       "31357  Friends are the people who let you be yourself...   \n",
       "11862  Just When His World Is Back To Normal... He's ...   \n",
       "\n",
       "                             title  video vote_average vote_count  \n",
       "id                                                                 \n",
       "862                      Toy Story  False          7.7    5,415.0  \n",
       "8844                       Jumanji  False          6.9    2,413.0  \n",
       "15602             Grumpier Old Men  False          6.5       92.0  \n",
       "31357            Waiting to Exhale  False          6.1       34.0  \n",
       "11862  Father of the Bride Part II  False          5.7      173.0  \n",
       "\n",
       "[5 rows x 23 columns]"
      ]
     },
     "execution_count": 3,
     "metadata": {},
     "output_type": "execute_result"
    }
   ],
   "source": [
    "metadata.set_index('id', inplace = True)\n",
    "metadata.head(5)"
   ]
  },
  {
   "cell_type": "markdown",
   "metadata": {
    "papermill": {
     "duration": 0.054794,
     "end_time": "2020-09-27T15:26:54.604802",
     "exception": false,
     "start_time": "2020-09-27T15:26:54.550008",
     "status": "completed"
    },
    "tags": []
   },
   "source": [
    "<hr style=\"height:5px; border-radius:10px; background: linear-gradient(to right, #0F2027, #203A43, #2C5364);\"> </hr>"
   ]
  },
  {
   "cell_type": "markdown",
   "metadata": {
    "papermill": {
     "duration": 0.054195,
     "end_time": "2020-09-27T15:26:55.381195",
     "exception": false,
     "start_time": "2020-09-27T15:26:55.327000",
     "status": "completed"
    },
    "tags": []
   },
   "source": [
    "### Data Cleaning <a id='C23'></a>"
   ]
  },
  {
   "cell_type": "markdown",
   "metadata": {
    "papermill": {
     "duration": 0.055626,
     "end_time": "2020-09-27T15:26:55.492318",
     "exception": false,
     "start_time": "2020-09-27T15:26:55.436692",
     "status": "completed"
    },
    "tags": []
   },
   "source": [
    "Firstly, some of the columns will be deleted since we are not going to use the information. For example: *adult*, *belongs_to_collection*, *homepage*, *overview*, *release_date*, *status*, *tagline*, *runtime*, etc."
   ]
  },
  {
   "cell_type": "code",
   "execution_count": 4,
   "metadata": {},
   "outputs": [],
   "source": [
    "metadata.drop(labels=['adult','belongs_to_collection','homepage','original_title','overview','popularity','production_companies','production_countries','tagline','runtime','poster_path','video'], axis='columns', inplace=True)"
   ]
  },
  {
   "cell_type": "markdown",
   "metadata": {},
   "source": [
    "Secondly, we will use regular expression to extract information from the columns: *genres*, and *spoken_languages*. Before doing that, we need to drop the missing values for those columns."
   ]
  },
  {
   "cell_type": "code",
   "execution_count": 5,
   "metadata": {
    "execution": {
     "iopub.execute_input": "2020-09-27T15:26:55.862979Z",
     "iopub.status.busy": "2020-09-27T15:26:55.857596Z",
     "iopub.status.idle": "2020-09-27T15:26:55.919877Z",
     "shell.execute_reply": "2020-09-27T15:26:55.919318Z"
    },
    "papermill": {
     "duration": 0.129008,
     "end_time": "2020-09-27T15:26:55.920011",
     "exception": false,
     "start_time": "2020-09-27T15:26:55.791003",
     "status": "completed"
    },
    "tags": []
   },
   "outputs": [],
   "source": [
    "metadata.dropna(subset=['genres'], axis='rows', inplace=True)\n",
    "metadata.dropna(subset=['spoken_languages'], axis='rows', inplace=True)\n",
    "\n",
    "regex = re.compile(r\": '(.*?)'\")\n",
    "metadata['genres'] = metadata['genres'].apply(lambda x: ', '.join(regex.findall(x)))\n",
    "metadata['spoken_languages'] = metadata['spoken_languages'].apply(lambda x: ', '.join(regex.findall(x)))"
   ]
  },
  {
   "cell_type": "markdown",
   "metadata": {},
   "source": [
    "Thirdly, we change the type of *budget* and *release_date* from object to float and datetime for further analysis."
   ]
  },
  {
   "cell_type": "code",
   "execution_count": 6,
   "metadata": {},
   "outputs": [],
   "source": [
    "metadata['budget'] = metadata['budget'].astype(float)\n",
    "metadata['release_date'] = pd.to_datetime(metadata['release_date'], format='%Y/%m/%d', errors='coerce')"
   ]
  },
  {
   "cell_type": "markdown",
   "metadata": {},
   "source": [
    "Next, we drop the missing values and remove the duplicates from column *imdb_id*. After that, remove column *imdb_id* since we do not need the information. "
   ]
  },
  {
   "cell_type": "code",
   "execution_count": 7,
   "metadata": {},
   "outputs": [],
   "source": [
    "metadata.dropna(subset=['imdb_id'], inplace=True)\n",
    "dupl = metadata['imdb_id'].duplicated(keep=False)\n",
    "metadata.loc[dupl, ['imdb_id']].sort_values('imdb_id').head(10)\n",
    "metadata.drop_duplicates('imdb_id', inplace=True)\n",
    "metadata.drop(labels=['imdb_id'], axis='columns', inplace=True)"
   ]
  },
  {
   "cell_type": "markdown",
   "metadata": {},
   "source": [
    "Lastly, rearranging the columns to make a well-organized datasets."
   ]
  },
  {
   "cell_type": "code",
   "execution_count": 8,
   "metadata": {},
   "outputs": [],
   "source": [
    "metadata = metadata.reindex(columns=['title','genres','release_date','status','original_language','spoken_languages','budget', 'revenue','vote_average','vote_count',])"
   ]
  },
  {
   "cell_type": "code",
   "execution_count": 9,
   "metadata": {},
   "outputs": [
    {
     "data": {
      "text/html": [
       "<div>\n",
       "<style scoped>\n",
       "    .dataframe tbody tr th:only-of-type {\n",
       "        vertical-align: middle;\n",
       "    }\n",
       "\n",
       "    .dataframe tbody tr th {\n",
       "        vertical-align: top;\n",
       "    }\n",
       "\n",
       "    .dataframe thead th {\n",
       "        text-align: right;\n",
       "    }\n",
       "</style>\n",
       "<table border=\"1\" class=\"dataframe\">\n",
       "  <thead>\n",
       "    <tr style=\"text-align: right;\">\n",
       "      <th></th>\n",
       "      <th>title</th>\n",
       "      <th>genres</th>\n",
       "      <th>release_date</th>\n",
       "      <th>status</th>\n",
       "      <th>original_language</th>\n",
       "      <th>spoken_languages</th>\n",
       "      <th>budget</th>\n",
       "      <th>revenue</th>\n",
       "      <th>vote_average</th>\n",
       "      <th>vote_count</th>\n",
       "    </tr>\n",
       "    <tr>\n",
       "      <th>id</th>\n",
       "      <th></th>\n",
       "      <th></th>\n",
       "      <th></th>\n",
       "      <th></th>\n",
       "      <th></th>\n",
       "      <th></th>\n",
       "      <th></th>\n",
       "      <th></th>\n",
       "      <th></th>\n",
       "      <th></th>\n",
       "    </tr>\n",
       "  </thead>\n",
       "  <tbody>\n",
       "    <tr>\n",
       "      <th>862</th>\n",
       "      <td>Toy Story</td>\n",
       "      <td>Animation, Comedy, Family</td>\n",
       "      <td>1995-10-30</td>\n",
       "      <td>Released</td>\n",
       "      <td>en</td>\n",
       "      <td>en, English</td>\n",
       "      <td>30,000,000.0</td>\n",
       "      <td>373,554,033.0</td>\n",
       "      <td>7.7</td>\n",
       "      <td>5,415.0</td>\n",
       "    </tr>\n",
       "    <tr>\n",
       "      <th>8844</th>\n",
       "      <td>Jumanji</td>\n",
       "      <td>Adventure, Fantasy, Family</td>\n",
       "      <td>1995-12-15</td>\n",
       "      <td>Released</td>\n",
       "      <td>en</td>\n",
       "      <td>en, English, fr, Français</td>\n",
       "      <td>65,000,000.0</td>\n",
       "      <td>262,797,249.0</td>\n",
       "      <td>6.9</td>\n",
       "      <td>2,413.0</td>\n",
       "    </tr>\n",
       "    <tr>\n",
       "      <th>15602</th>\n",
       "      <td>Grumpier Old Men</td>\n",
       "      <td>Romance, Comedy</td>\n",
       "      <td>1995-12-22</td>\n",
       "      <td>Released</td>\n",
       "      <td>en</td>\n",
       "      <td>en, English</td>\n",
       "      <td>0.0</td>\n",
       "      <td>0.0</td>\n",
       "      <td>6.5</td>\n",
       "      <td>92.0</td>\n",
       "    </tr>\n",
       "    <tr>\n",
       "      <th>31357</th>\n",
       "      <td>Waiting to Exhale</td>\n",
       "      <td>Comedy, Drama, Romance</td>\n",
       "      <td>1995-12-22</td>\n",
       "      <td>Released</td>\n",
       "      <td>en</td>\n",
       "      <td>en, English</td>\n",
       "      <td>16,000,000.0</td>\n",
       "      <td>81,452,156.0</td>\n",
       "      <td>6.1</td>\n",
       "      <td>34.0</td>\n",
       "    </tr>\n",
       "    <tr>\n",
       "      <th>11862</th>\n",
       "      <td>Father of the Bride Part II</td>\n",
       "      <td>Comedy</td>\n",
       "      <td>1995-02-10</td>\n",
       "      <td>Released</td>\n",
       "      <td>en</td>\n",
       "      <td>en, English</td>\n",
       "      <td>0.0</td>\n",
       "      <td>76,578,911.0</td>\n",
       "      <td>5.7</td>\n",
       "      <td>173.0</td>\n",
       "    </tr>\n",
       "  </tbody>\n",
       "</table>\n",
       "</div>"
      ],
      "text/plain": [
       "                             title                      genres release_date  \\\n",
       "id                                                                            \n",
       "862                      Toy Story   Animation, Comedy, Family   1995-10-30   \n",
       "8844                       Jumanji  Adventure, Fantasy, Family   1995-12-15   \n",
       "15602             Grumpier Old Men             Romance, Comedy   1995-12-22   \n",
       "31357            Waiting to Exhale      Comedy, Drama, Romance   1995-12-22   \n",
       "11862  Father of the Bride Part II                      Comedy   1995-02-10   \n",
       "\n",
       "         status original_language           spoken_languages       budget  \\\n",
       "id                                                                          \n",
       "862    Released                en                en, English 30,000,000.0   \n",
       "8844   Released                en  en, English, fr, Français 65,000,000.0   \n",
       "15602  Released                en                en, English          0.0   \n",
       "31357  Released                en                en, English 16,000,000.0   \n",
       "11862  Released                en                en, English          0.0   \n",
       "\n",
       "            revenue  vote_average  vote_count  \n",
       "id                                             \n",
       "862   373,554,033.0           7.7     5,415.0  \n",
       "8844  262,797,249.0           6.9     2,413.0  \n",
       "15602           0.0           6.5        92.0  \n",
       "31357  81,452,156.0           6.1        34.0  \n",
       "11862  76,578,911.0           5.7       173.0  "
      ]
     },
     "execution_count": 9,
     "metadata": {},
     "output_type": "execute_result"
    }
   ],
   "source": [
    "metadata.head(5)"
   ]
  },
  {
   "cell_type": "markdown",
   "metadata": {
    "papermill": {
     "duration": 0.063195,
     "end_time": "2020-09-27T15:26:59.814212",
     "exception": false,
     "start_time": "2020-09-27T15:26:59.751017",
     "status": "completed"
    },
    "tags": []
   },
   "source": [
    "<hr style=\"height:5px; border-radius:10px; background: linear-gradient(to right, #0F2027, #203A43, #2C5364);\"> </hr>"
   ]
  },
  {
   "cell_type": "markdown",
   "metadata": {
    "papermill": {
     "duration": 0.068669,
     "end_time": "2020-09-27T15:27:00.066868",
     "exception": false,
     "start_time": "2020-09-27T15:26:59.998199",
     "status": "completed"
    },
    "tags": []
   },
   "source": [
    "### Summary Statistics <a id='C55'></a>"
   ]
  },
  {
   "cell_type": "code",
   "execution_count": 10,
   "metadata": {
    "execution": {
     "iopub.execute_input": "2020-09-27T15:27:00.198929Z",
     "iopub.status.busy": "2020-09-27T15:27:00.197891Z",
     "iopub.status.idle": "2020-09-27T15:27:00.243550Z",
     "shell.execute_reply": "2020-09-27T15:27:00.242769Z"
    },
    "papermill": {
     "duration": 0.11424,
     "end_time": "2020-09-27T15:27:00.243679",
     "exception": false,
     "start_time": "2020-09-27T15:27:00.129439",
     "status": "completed"
    },
    "tags": []
   },
   "outputs": [
    {
     "data": {
      "text/html": [
       "<div>\n",
       "<style scoped>\n",
       "    .dataframe tbody tr th:only-of-type {\n",
       "        vertical-align: middle;\n",
       "    }\n",
       "\n",
       "    .dataframe tbody tr th {\n",
       "        vertical-align: top;\n",
       "    }\n",
       "\n",
       "    .dataframe thead th {\n",
       "        text-align: right;\n",
       "    }\n",
       "</style>\n",
       "<table border=\"1\" class=\"dataframe\">\n",
       "  <thead>\n",
       "    <tr style=\"text-align: right;\">\n",
       "      <th></th>\n",
       "      <th>count</th>\n",
       "      <th>mean</th>\n",
       "      <th>std</th>\n",
       "      <th>min</th>\n",
       "      <th>25%</th>\n",
       "      <th>50%</th>\n",
       "      <th>75%</th>\n",
       "      <th>max</th>\n",
       "    </tr>\n",
       "  </thead>\n",
       "  <tbody>\n",
       "    <tr>\n",
       "      <th>budget</th>\n",
       "      <td>45,413.0</td>\n",
       "      <td>4,226,332.363838549</td>\n",
       "      <td>17,431,615.429206</td>\n",
       "      <td>0.0</td>\n",
       "      <td>0.0</td>\n",
       "      <td>0.0</td>\n",
       "      <td>0.0</td>\n",
       "      <td>380,000,000.0</td>\n",
       "    </tr>\n",
       "    <tr>\n",
       "      <th>revenue</th>\n",
       "      <td>45,413.0</td>\n",
       "      <td>11,217,081.584370114</td>\n",
       "      <td>64,363,807.81208938</td>\n",
       "      <td>0.0</td>\n",
       "      <td>0.0</td>\n",
       "      <td>0.0</td>\n",
       "      <td>0.0</td>\n",
       "      <td>2,787,965,087.0</td>\n",
       "    </tr>\n",
       "    <tr>\n",
       "      <th>vote_average</th>\n",
       "      <td>45,413.0</td>\n",
       "      <td>5.618882258383868</td>\n",
       "      <td>1.9232271018582061</td>\n",
       "      <td>0.0</td>\n",
       "      <td>5.0</td>\n",
       "      <td>6.0</td>\n",
       "      <td>6.8</td>\n",
       "      <td>10.0</td>\n",
       "    </tr>\n",
       "    <tr>\n",
       "      <th>vote_count</th>\n",
       "      <td>45,413.0</td>\n",
       "      <td>109.97419241186445</td>\n",
       "      <td>491.5542780282294</td>\n",
       "      <td>0.0</td>\n",
       "      <td>3.0</td>\n",
       "      <td>10.0</td>\n",
       "      <td>34.0</td>\n",
       "      <td>14,075.0</td>\n",
       "    </tr>\n",
       "  </tbody>\n",
       "</table>\n",
       "</div>"
      ],
      "text/plain": [
       "                count                 mean                 std  min  25%  50%  \\\n",
       "budget       45,413.0  4,226,332.363838549   17,431,615.429206  0.0  0.0  0.0   \n",
       "revenue      45,413.0 11,217,081.584370114 64,363,807.81208938  0.0  0.0  0.0   \n",
       "vote_average 45,413.0    5.618882258383868  1.9232271018582061  0.0  5.0  6.0   \n",
       "vote_count   45,413.0   109.97419241186445   491.5542780282294  0.0  3.0 10.0   \n",
       "\n",
       "              75%             max  \n",
       "budget        0.0   380,000,000.0  \n",
       "revenue       0.0 2,787,965,087.0  \n",
       "vote_average  6.8            10.0  \n",
       "vote_count   34.0        14,075.0  "
      ]
     },
     "execution_count": 10,
     "metadata": {},
     "output_type": "execute_result"
    }
   ],
   "source": [
    "metadata.describe().T"
   ]
  },
  {
   "cell_type": "markdown",
   "metadata": {
    "papermill": {
     "duration": 0.069726,
     "end_time": "2020-09-27T15:27:02.029950",
     "exception": false,
     "start_time": "2020-09-27T15:27:01.960224",
     "status": "completed"
    },
    "tags": []
   },
   "source": [
    "<hr style=\"height:5px; border-radius:10px; background: linear-gradient(to right, #0F2027, #203A43, #2C5364);\"> </hr>"
   ]
  },
  {
   "cell_type": "markdown",
   "metadata": {
    "papermill": {
     "duration": 0.063287,
     "end_time": "2020-09-27T15:27:02.167888",
     "exception": false,
     "start_time": "2020-09-27T15:27:02.104601",
     "status": "completed"
    },
    "tags": []
   },
   "source": [
    "### Top 5 <a id='C60'></a>\n",
    "\n",
    "In this section, we will present the top 5 movies based on *budget*, *revenue*, *profit*, *loss* and *rating* from the metadata."
   ]
  },
  {
   "cell_type": "markdown",
   "metadata": {
    "papermill": {
     "duration": 0.068295,
     "end_time": "2020-09-27T15:27:02.301503",
     "exception": false,
     "start_time": "2020-09-27T15:27:02.233208",
     "status": "completed"
    },
    "tags": []
   },
   "source": [
    "#### Budget <a id='C61'></a>"
   ]
  },
  {
   "cell_type": "code",
   "execution_count": 11,
   "metadata": {
    "execution": {
     "iopub.execute_input": "2020-09-27T15:27:02.437949Z",
     "iopub.status.busy": "2020-09-27T15:27:02.436888Z",
     "iopub.status.idle": "2020-09-27T15:27:02.705905Z",
     "shell.execute_reply": "2020-09-27T15:27:02.705234Z"
    },
    "papermill": {
     "duration": 0.341541,
     "end_time": "2020-09-27T15:27:02.706019",
     "exception": false,
     "start_time": "2020-09-27T15:27:02.364478",
     "status": "completed"
    },
    "scrolled": false,
    "tags": []
   },
   "outputs": [
    {
     "data": {
      "image/png": "[encoded data removed]",
      "text/plain": [
       "<Figure size 1080x360 with 1 Axes>"
      ]
     },
     "metadata": {
      "needs_background": "light"
     },
     "output_type": "display_data"
    }
   ],
   "source": [
    "cols = ['title', 'budget']\n",
    "budget = metadata.sort_values('budget', ascending=False)[cols].set_index('title')\n",
    "budget_t5 = budget.head(5)\n",
    "\n",
    "fig, ax = plt.subplots(figsize=(15,5))\n",
    "sns.set_style('dark')\n",
    "sns.barplot(data=budget_t5, x=budget_t5.index, y='budget');\n",
    "plt.xticks(ha='left', rotation=-20, fontsize=15); plt.yticks(fontsize=15)\n",
    "plt.xlabel(''); plt.ylabel('USD 100M', fontsize=15);\n",
    "plt.title('Top 5 Highest Budget Movies', fontsize=15);"
   ]
  },
  {
   "cell_type": "markdown",
   "metadata": {
    "papermill": {
     "duration": 0.066101,
     "end_time": "2020-09-27T15:27:02.838286",
     "exception": false,
     "start_time": "2020-09-27T15:27:02.772185",
     "status": "completed"
    },
    "tags": []
   },
   "source": [
    "<hr style=\"height:2px; border-radius:10px; background: linear-gradient(to right, #0F2027, #203A43, #2C5364);\"> </hr>"
   ]
  },
  {
   "cell_type": "markdown",
   "metadata": {
    "papermill": {
     "duration": 0.064783,
     "end_time": "2020-09-27T15:27:02.969319",
     "exception": false,
     "start_time": "2020-09-27T15:27:02.904536",
     "status": "completed"
    },
    "tags": []
   },
   "source": [
    "#### Revenue <a id='C64'></a>"
   ]
  },
  {
   "cell_type": "code",
   "execution_count": 12,
   "metadata": {
    "execution": {
     "iopub.execute_input": "2020-09-27T15:27:03.116377Z",
     "iopub.status.busy": "2020-09-27T15:27:03.115436Z",
     "iopub.status.idle": "2020-09-27T15:27:03.401919Z",
     "shell.execute_reply": "2020-09-27T15:27:03.402677Z"
    },
    "papermill": {
     "duration": 0.361871,
     "end_time": "2020-09-27T15:27:03.402889",
     "exception": false,
     "start_time": "2020-09-27T15:27:03.041018",
     "status": "completed"
    },
    "tags": []
   },
   "outputs": [
    {
     "data": {
      "image/png": "[encoded data removed]",
      "text/plain": [
       "<Figure size 1080x360 with 1 Axes>"
      ]
     },
     "metadata": {},
     "output_type": "display_data"
    }
   ],
   "source": [
    "cols = ['title', 'revenue']\n",
    "revenue = metadata.sort_values('revenue', ascending=False)[cols].set_index('title')\n",
    "revenue_t5 = revenue.head(5)\n",
    "\n",
    "fig, ax = plt.subplots(figsize=(15,5))\n",
    "sns.set_style('dark')\n",
    "sns.barplot(data=revenue_t5, x=revenue_t5.index, y='revenue');\n",
    "plt.xticks(ha='left', rotation=-20, fontsize=15); plt.yticks(fontsize=15)\n",
    "plt.xlabel(''); plt.ylabel('USD 1B', fontsize=15);\n",
    "plt.title('Top 5 Highest Revenue Movies', fontsize=15);"
   ]
  },
  {
   "cell_type": "markdown",
   "metadata": {
    "papermill": {
     "duration": 0.066175,
     "end_time": "2020-09-27T15:27:03.537921",
     "exception": false,
     "start_time": "2020-09-27T15:27:03.471746",
     "status": "completed"
    },
    "tags": []
   },
   "source": [
    "<hr style=\"height:2px; border-radius:10px; background: linear-gradient(to right, #0F2027, #203A43, #2C5364);\"> </hr>"
   ]
  },
  {
   "cell_type": "markdown",
   "metadata": {
    "papermill": {
     "duration": 0.066352,
     "end_time": "2020-09-27T15:27:03.671031",
     "exception": false,
     "start_time": "2020-09-27T15:27:03.604679",
     "status": "completed"
    },
    "tags": []
   },
   "source": [
    "#### Profit <a id='C67'></a>"
   ]
  },
  {
   "cell_type": "code",
   "execution_count": 13,
   "metadata": {
    "execution": {
     "iopub.execute_input": "2020-09-27T15:27:03.827439Z",
     "iopub.status.busy": "2020-09-27T15:27:03.826751Z",
     "iopub.status.idle": "2020-09-27T15:27:04.246671Z",
     "shell.execute_reply": "2020-09-27T15:27:04.247208Z"
    },
    "papermill": {
     "duration": 0.508506,
     "end_time": "2020-09-27T15:27:04.247397",
     "exception": false,
     "start_time": "2020-09-27T15:27:03.738891",
     "status": "completed"
    },
    "tags": []
   },
   "outputs": [
    {
     "data": {
      "image/png": "[encoded data removed]",
      "text/plain": [
       "<Figure size 1440x288 with 1 Axes>"
      ]
     },
     "metadata": {},
     "output_type": "display_data"
    }
   ],
   "source": [
    "profit = metadata['revenue']-metadata['budget']\n",
    "profit.name = 'profit'\n",
    "profits = metadata.join(profit)[['title', 'budget', 'revenue', 'profit']].sort_values('profit', ascending=False)\n",
    "profits_t5 = profits.head(5).set_index('title')\n",
    "\n",
    "plt.style.use('ggplot')\n",
    "profits_t5.plot(kind='bar', figsize=(20,4), fontsize=20)\n",
    "plt.ylabel('USD 1B', fontsize=20); plt.xlabel('')\n",
    "plt.xticks(rotation=-20, ha='left')\n",
    "plt.suptitle('Budget, Revenue and Profit for the Top 5 Profitable Movies', fontsize=20)\n",
    "plt.axes().legend(fontsize=16);"
   ]
  },
  {
   "cell_type": "code",
   "execution_count": 14,
   "metadata": {
    "execution": {
     "iopub.execute_input": "2020-09-27T15:27:04.547249Z",
     "iopub.status.busy": "2020-09-27T15:27:04.542433Z",
     "iopub.status.idle": "2020-09-27T15:27:04.807927Z",
     "shell.execute_reply": "2020-09-27T15:27:04.807267Z"
    },
    "papermill": {
     "duration": 0.346342,
     "end_time": "2020-09-27T15:27:04.808047",
     "exception": false,
     "start_time": "2020-09-27T15:27:04.461705",
     "status": "completed"
    },
    "tags": []
   },
   "outputs": [
    {
     "data": {
      "image/png": "[encoded data removed]",
      "text/plain": [
       "<Figure size 1080x360 with 1 Axes>"
      ]
     },
     "metadata": {},
     "output_type": "display_data"
    }
   ],
   "source": [
    "profits_p = (profits_t5['profit']/profits_t5['budget']*100)\n",
    "profits_p = profits_p.sort_values(ascending=False).to_frame().rename(columns={0:'Percentage of Profit'})\n",
    "\n",
    "fig, ax = plt.subplots(figsize=(15,5))\n",
    "sns.set_style('dark')\n",
    "sns.barplot(data=profits_p, x=profits_p.index, y='Percentage of Profit')\n",
    "plt.xticks(ha='left', rotation=-20, fontsize=15); plt.yticks(fontsize=15)\n",
    "plt.xlabel(''); plt.ylabel('Percentage of Profit', fontsize=15);\n",
    "plt.title('Percentage of Profit for the Top 5 Profitable Movies', fontsize=15);"
   ]
  },
  {
   "cell_type": "markdown",
   "metadata": {
    "papermill": {
     "duration": 0.073135,
     "end_time": "2020-09-27T15:27:05.100941",
     "exception": false,
     "start_time": "2020-09-27T15:27:05.027806",
     "status": "completed"
    },
    "tags": []
   },
   "source": [
    "<hr style=\"height:2px; border-radius:10px; background: linear-gradient(to right, #0F2027, #203A43, #2C5364);\"> </hr>"
   ]
  },
  {
   "cell_type": "markdown",
   "metadata": {
    "papermill": {
     "duration": 0.072037,
     "end_time": "2020-09-27T15:27:05.246310",
     "exception": false,
     "start_time": "2020-09-27T15:27:05.174273",
     "status": "completed"
    },
    "tags": []
   },
   "source": [
    "#### Loss <a id='C73'></a>"
   ]
  },
  {
   "cell_type": "code",
   "execution_count": 15,
   "metadata": {
    "execution": {
     "iopub.execute_input": "2020-09-27T15:27:05.398778Z",
     "iopub.status.busy": "2020-09-27T15:27:05.397982Z",
     "iopub.status.idle": "2020-09-27T15:27:05.740936Z",
     "shell.execute_reply": "2020-09-27T15:27:05.741464Z"
    },
    "papermill": {
     "duration": 0.423383,
     "end_time": "2020-09-27T15:27:05.741615",
     "exception": false,
     "start_time": "2020-09-27T15:27:05.318232",
     "status": "completed"
    },
    "tags": []
   },
   "outputs": [
    {
     "data": {
      "image/png": "[encoded data removed]",
      "text/plain": [
       "<Figure size 1440x432 with 1 Axes>"
      ]
     },
     "metadata": {},
     "output_type": "display_data"
    }
   ],
   "source": [
    "loss_t5 = profits[profits['revenue'] > 0].tail(5).sort_values(['profit', 'revenue']).set_index('title')\n",
    "\n",
    "plt.style.use('seaborn')\n",
    "loss_t5.plot(kind='bar', figsize=(20,6), fontsize=20)\n",
    "plt.ylabel('USD 1B', fontsize=20); plt.xlabel('')\n",
    "plt.xticks(rotation=-20, ha='left')\n",
    "plt.suptitle('Top 5 Losing Movies', fontsize=20)\n",
    "plt.axes().legend(fontsize=15);"
   ]
  },
  {
   "cell_type": "markdown",
   "metadata": {
    "papermill": {
     "duration": 0.075873,
     "end_time": "2020-09-27T15:27:06.038984",
     "exception": false,
     "start_time": "2020-09-27T15:27:05.963111",
     "status": "completed"
    },
    "tags": []
   },
   "source": [
    "<hr style=\"height:2px; border-radius:10px; background: linear-gradient(to right, #0F2027, #203A43, #2C5364);\"> </hr>"
   ]
  },
  {
   "cell_type": "markdown",
   "metadata": {
    "papermill": {
     "duration": 0.07324,
     "end_time": "2020-09-27T15:27:06.188269",
     "exception": false,
     "start_time": "2020-09-27T15:27:06.115029",
     "status": "completed"
    },
    "tags": []
   },
   "source": [
    "#### Rating <a id='C77'></a>"
   ]
  },
  {
   "cell_type": "code",
   "execution_count": 16,
   "metadata": {
    "execution": {
     "iopub.execute_input": "2020-09-27T15:27:06.349071Z",
     "iopub.status.busy": "2020-09-27T15:27:06.348319Z",
     "iopub.status.idle": "2020-09-27T15:27:06.530987Z",
     "shell.execute_reply": "2020-09-27T15:27:06.530305Z"
    },
    "papermill": {
     "duration": 0.267018,
     "end_time": "2020-09-27T15:27:06.531106",
     "exception": false,
     "start_time": "2020-09-27T15:27:06.264088",
     "status": "completed"
    },
    "tags": []
   },
   "outputs": [
    {
     "data": {
      "image/png": "[encoded data removed]",
      "text/plain": [
       "<Figure size 1440x360 with 1 Axes>"
      ]
     },
     "metadata": {},
     "output_type": "display_data"
    }
   ],
   "source": [
    "condition = (metadata.vote_count)>5000\n",
    "rating = metadata.loc[condition, ['title', 'vote_average']].sort_values('vote_average', ascending=False)\n",
    "rating_t5 = rating.head(5)\n",
    "\n",
    "plt.style.use('seaborn')\n",
    "_ = rating_t5.plot(kind='scatter', x='title', y='vote_average', grid=True,\n",
    "                        figsize=(20,5), fontsize=15, xticks='', ylim=(8,8.6), s=100, \n",
    "                        c=['r', 'g', 'y', 'b', 'r',]);\n",
    "for i, (title, vote) in enumerate(zip(rating_t5.title, rating_t5.vote_average)):\n",
    "    _ = plt.text(i, vote, title, rotation=-10, va='top', ha='left', \n",
    "                 fontsize=15);\n",
    "plt.ylabel('Vote Average', fontsize=20);\n",
    "plt.title('Top 5 Ratings', fontsize=20)\n",
    "plt.xlabel('');"
   ]
  },
  {
   "cell_type": "markdown",
   "metadata": {
    "papermill": {
     "duration": 0.076704,
     "end_time": "2020-09-27T15:27:06.685528",
     "exception": false,
     "start_time": "2020-09-27T15:27:06.608824",
     "status": "completed"
    },
    "tags": []
   },
   "source": [
    "<hr style=\"height:5px; border-radius:10px; background: linear-gradient(to right, #0F2027, #203A43, #2C5364);\"> </hr>"
   ]
  },
  {
   "cell_type": "markdown",
   "metadata": {
    "papermill": {
     "duration": 0.087,
     "end_time": "2020-09-27T15:27:22.731832",
     "exception": false,
     "start_time": "2020-09-27T15:27:22.644832",
     "status": "completed"
    },
    "tags": []
   },
   "source": [
    "#### Top 5 languages in terms of revenue. <a id='C106'></a>\n",
    "In this section, we will see what are the top 5 movie languages which produce the largest revenue."
   ]
  },
  {
   "cell_type": "code",
   "execution_count": 17,
   "metadata": {
    "execution": {
     "iopub.execute_input": "2020-09-27T15:27:23.096513Z",
     "iopub.status.busy": "2020-09-27T15:27:23.095330Z",
     "iopub.status.idle": "2020-09-27T15:27:23.169210Z",
     "shell.execute_reply": "2020-09-27T15:27:23.168699Z"
    },
    "papermill": {
     "duration": 0.174623,
     "end_time": "2020-09-27T15:27:23.169327",
     "exception": false,
     "start_time": "2020-09-27T15:27:22.994704",
     "status": "completed"
    },
    "scrolled": true,
    "tags": []
   },
   "outputs": [
    {
     "data": {
      "text/html": [
       "<div>\n",
       "<style scoped>\n",
       "    .dataframe tbody tr th:only-of-type {\n",
       "        vertical-align: middle;\n",
       "    }\n",
       "\n",
       "    .dataframe tbody tr th {\n",
       "        vertical-align: top;\n",
       "    }\n",
       "\n",
       "    .dataframe thead th {\n",
       "        text-align: right;\n",
       "    }\n",
       "</style>\n",
       "<table border=\"1\" class=\"dataframe\">\n",
       "  <thead>\n",
       "    <tr style=\"text-align: right;\">\n",
       "      <th></th>\n",
       "      <th>revenue</th>\n",
       "      <th>language</th>\n",
       "    </tr>\n",
       "    <tr>\n",
       "      <th>original_language</th>\n",
       "      <th></th>\n",
       "      <th></th>\n",
       "    </tr>\n",
       "  </thead>\n",
       "  <tbody>\n",
       "    <tr>\n",
       "      <th>en</th>\n",
       "      <td>489,474,683,981.0</td>\n",
       "      <td>English</td>\n",
       "    </tr>\n",
       "    <tr>\n",
       "      <th>ja</th>\n",
       "      <td>3,593,021,014.0</td>\n",
       "      <td>Japanese</td>\n",
       "    </tr>\n",
       "    <tr>\n",
       "      <th>zh</th>\n",
       "      <td>3,344,862,587.0</td>\n",
       "      <td>Chinese</td>\n",
       "    </tr>\n",
       "    <tr>\n",
       "      <th>fr</th>\n",
       "      <td>2,687,874,361.0</td>\n",
       "      <td>French</td>\n",
       "    </tr>\n",
       "    <tr>\n",
       "      <th>hi</th>\n",
       "      <td>2,671,224,642.0</td>\n",
       "      <td>Hindi</td>\n",
       "    </tr>\n",
       "  </tbody>\n",
       "</table>\n",
       "</div>"
      ],
      "text/plain": [
       "                            revenue  language\n",
       "original_language                            \n",
       "en                489,474,683,981.0   English\n",
       "ja                  3,593,021,014.0  Japanese\n",
       "zh                  3,344,862,587.0   Chinese\n",
       "fr                  2,687,874,361.0    French\n",
       "hi                  2,671,224,642.0     Hindi"
      ]
     },
     "execution_count": 17,
     "metadata": {},
     "output_type": "execute_result"
    }
   ],
   "source": [
    "def get_language(code):\n",
    "    language = pycountry.languages.get(alpha_2=str(code))\n",
    "    if language:\n",
    "        return language.name\n",
    "    else:\n",
    "        return np.nan\n",
    "language_t5 = metadata.groupby('original_language').sum()['revenue'].sort_values(ascending=False)[:5].to_frame()\n",
    "language_t5['language'] = language_t5.index.map(get_language).fillna('Chinese') \n",
    "language_t5"
   ]
  },
  {
   "cell_type": "markdown",
   "metadata": {
    "papermill": {
     "duration": 0.087305,
     "end_time": "2020-09-27T15:27:23.345915",
     "exception": false,
     "start_time": "2020-09-27T15:27:23.258610",
     "status": "completed"
    },
    "tags": []
   },
   "source": [
    "<hr style=\"height:2px; border-radius:10px; background: linear-gradient(to right, #0F2027, #203A43, #2C5364);\"> </hr>"
   ]
  },
  {
   "cell_type": "markdown",
   "metadata": {
    "papermill": {
     "duration": 0.08758,
     "end_time": "2020-09-27T15:27:23.525186",
     "exception": false,
     "start_time": "2020-09-27T15:27:23.437606",
     "status": "completed"
    },
    "tags": []
   },
   "source": [
    "#### Top 5 rated movies in the top 5 languages with the largest revenue. <a id='C110'></a>\n",
    "Next, to extend the previous questions one step further. We consider the top 5 most-liked movies in the top 5 languages that produce the largest revenue."
   ]
  },
  {
   "cell_type": "code",
   "execution_count": 18,
   "metadata": {
    "execution": {
     "iopub.execute_input": "2020-09-27T15:27:23.884674Z",
     "iopub.status.busy": "2020-09-27T15:27:23.883976Z",
     "iopub.status.idle": "2020-09-27T15:27:23.940221Z",
     "shell.execute_reply": "2020-09-27T15:27:23.939618Z"
    },
    "papermill": {
     "duration": 0.152204,
     "end_time": "2020-09-27T15:27:23.940344",
     "exception": false,
     "start_time": "2020-09-27T15:27:23.788140",
     "status": "completed"
    },
    "scrolled": true,
    "tags": []
   },
   "outputs": [
    {
     "data": {
      "text/html": [
       "<div>\n",
       "<style scoped>\n",
       "    .dataframe tbody tr th:only-of-type {\n",
       "        vertical-align: middle;\n",
       "    }\n",
       "\n",
       "    .dataframe tbody tr th {\n",
       "        vertical-align: top;\n",
       "    }\n",
       "\n",
       "    .dataframe thead th {\n",
       "        text-align: right;\n",
       "    }\n",
       "</style>\n",
       "<table border=\"1\" class=\"dataframe\">\n",
       "  <thead>\n",
       "    <tr style=\"text-align: right;\">\n",
       "      <th></th>\n",
       "      <th>vote_rank</th>\n",
       "      <th>1</th>\n",
       "      <th>2</th>\n",
       "      <th>3</th>\n",
       "      <th>4</th>\n",
       "      <th>5</th>\n",
       "    </tr>\n",
       "    <tr>\n",
       "      <th>language</th>\n",
       "      <th>original_language</th>\n",
       "      <th></th>\n",
       "      <th></th>\n",
       "      <th></th>\n",
       "      <th></th>\n",
       "      <th></th>\n",
       "    </tr>\n",
       "  </thead>\n",
       "  <tbody>\n",
       "    <tr>\n",
       "      <th>Chinese</th>\n",
       "      <th>zh</th>\n",
       "      <td>Dragon Blade</td>\n",
       "      <td>The Grandmaster</td>\n",
       "      <td>Wolf Totem</td>\n",
       "      <td>Detective Dee and the Mystery of the Phantom F...</td>\n",
       "      <td>Curse of the Golden Flower</td>\n",
       "    </tr>\n",
       "    <tr>\n",
       "      <th>English</th>\n",
       "      <th>en</th>\n",
       "      <td>House of the Dead</td>\n",
       "      <td>Dragonball Evolution</td>\n",
       "      <td>Battlefield Earth</td>\n",
       "      <td>Alone in the Dark</td>\n",
       "      <td>Disaster Movie</td>\n",
       "    </tr>\n",
       "    <tr>\n",
       "      <th>French</th>\n",
       "      <th>fr</th>\n",
       "      <td>The Visitors: Bastille Day</td>\n",
       "      <td>Desire</td>\n",
       "      <td>French Fried Vacation 3</td>\n",
       "      <td>Brice 3</td>\n",
       "      <td>Lucky Luke</td>\n",
       "    </tr>\n",
       "    <tr>\n",
       "      <th>Hindi</th>\n",
       "      <th>hi</th>\n",
       "      <td>Lagaan: Once Upon a Time in India</td>\n",
       "      <td>Kal Ho Naa Ho</td>\n",
       "      <td>The Lunchbox</td>\n",
       "      <td>Kabhi Khushi Kabhie Gham</td>\n",
       "      <td>Taare Zameen Par</td>\n",
       "    </tr>\n",
       "    <tr>\n",
       "      <th>Japanese</th>\n",
       "      <th>ja</th>\n",
       "      <td>Battle Royale II: Requiem</td>\n",
       "      <td>Saint Seiya: Legend of Sanctuary</td>\n",
       "      <td>Attack on Titan</td>\n",
       "      <td>Pokémon: Spell of the Unknown</td>\n",
       "      <td>Resident Evil: Degeneration</td>\n",
       "    </tr>\n",
       "  </tbody>\n",
       "</table>\n",
       "</div>"
      ],
      "text/plain": [
       "vote_rank                                                   1  \\\n",
       "language original_language                                      \n",
       "Chinese  zh                                      Dragon Blade   \n",
       "English  en                                 House of the Dead   \n",
       "French   fr                        The Visitors: Bastille Day   \n",
       "Hindi    hi                 Lagaan: Once Upon a Time in India   \n",
       "Japanese ja                         Battle Royale II: Requiem   \n",
       "\n",
       "vote_rank                                                  2  \\\n",
       "language original_language                                     \n",
       "Chinese  zh                                  The Grandmaster   \n",
       "English  en                             Dragonball Evolution   \n",
       "French   fr                                           Desire   \n",
       "Hindi    hi                                    Kal Ho Naa Ho   \n",
       "Japanese ja                 Saint Seiya: Legend of Sanctuary   \n",
       "\n",
       "vote_rank                                         3  \\\n",
       "language original_language                            \n",
       "Chinese  zh                              Wolf Totem   \n",
       "English  en                       Battlefield Earth   \n",
       "French   fr                 French Fried Vacation 3   \n",
       "Hindi    hi                            The Lunchbox   \n",
       "Japanese ja                         Attack on Titan   \n",
       "\n",
       "vote_rank                                                                   4  \\\n",
       "language original_language                                                      \n",
       "Chinese  zh                 Detective Dee and the Mystery of the Phantom F...   \n",
       "English  en                                                 Alone in the Dark   \n",
       "French   fr                                                           Brice 3   \n",
       "Hindi    hi                                          Kabhi Khushi Kabhie Gham   \n",
       "Japanese ja                                     Pokémon: Spell of the Unknown   \n",
       "\n",
       "vote_rank                                             5  \n",
       "language original_language                               \n",
       "Chinese  zh                  Curse of the Golden Flower  \n",
       "English  en                              Disaster Movie  \n",
       "French   fr                                  Lucky Luke  \n",
       "Hindi    hi                            Taare Zameen Par  \n",
       "Japanese ja                 Resident Evil: Degeneration  "
      ]
     },
     "execution_count": 18,
     "metadata": {},
     "output_type": "execute_result"
    }
   ],
   "source": [
    "condition = (metadata.original_language.isin(language_t5.index))&(metadata.vote_count>100)\n",
    "title_vote = metadata.loc[condition,['title', 'vote_average', 'original_language']]\n",
    "\n",
    "combined = title_vote.groupby('original_language')\n",
    "title_vote['vote_rank'] = combined['vote_average'].rank(method='first').astype(int)\n",
    "title_vote['language'] = title_vote['original_language'].apply(get_language).fillna('Chinese')\n",
    "\n",
    "language_t5 = title_vote[title_vote['vote_rank']<6]\n",
    "language_t5.pivot(['language', 'original_language'], 'vote_rank', 'title')"
   ]
  },
  {
   "cell_type": "markdown",
   "metadata": {
    "papermill": {
     "duration": 0.088319,
     "end_time": "2020-09-27T15:27:24.122793",
     "exception": false,
     "start_time": "2020-09-27T15:27:24.034474",
     "status": "completed"
    },
    "tags": []
   },
   "source": [
    "<hr style=\"height:2px; border-radius:10px; background: linear-gradient(to right, #0F2027, #203A43, #2C5364);\"> </hr>"
   ]
  },
  {
   "cell_type": "markdown",
   "metadata": {
    "papermill": {
     "duration": 0.091929,
     "end_time": "2020-09-27T15:27:24.305702",
     "exception": false,
     "start_time": "2020-09-27T15:27:24.213773",
     "status": "completed"
    },
    "tags": []
   },
   "source": [
    "#### The top 5 Genres each year. <a id='C114'></a>\n",
    "In this section, we will study the trend in genres over the years."
   ]
  },
  {
   "cell_type": "code",
   "execution_count": 19,
   "metadata": {
    "execution": {
     "iopub.execute_input": "2020-09-27T15:27:24.497170Z",
     "iopub.status.busy": "2020-09-27T15:27:24.496491Z",
     "iopub.status.idle": "2020-09-27T15:27:24.523334Z",
     "shell.execute_reply": "2020-09-27T15:27:24.522775Z"
    },
    "papermill": {
     "duration": 0.128697,
     "end_time": "2020-09-27T15:27:24.523468",
     "exception": false,
     "start_time": "2020-09-27T15:27:24.394771",
     "status": "completed"
    },
    "tags": []
   },
   "outputs": [],
   "source": [
    "condition = (metadata.status == 'Released')&(metadata.genres != '')&(metadata.release_date.notna())\n",
    "released = metadata[condition] \n",
    "release_year = pd.to_datetime(released.release_date)"
   ]
  },
  {
   "cell_type": "code",
   "execution_count": 20,
   "metadata": {
    "execution": {
     "iopub.execute_input": "2020-09-27T15:27:24.734995Z",
     "iopub.status.busy": "2020-09-27T15:27:24.729781Z",
     "iopub.status.idle": "2020-09-27T15:27:25.640757Z",
     "shell.execute_reply": "2020-09-27T15:27:25.641242Z"
    },
    "papermill": {
     "duration": 1.028773,
     "end_time": "2020-09-27T15:27:25.641430",
     "exception": false,
     "start_time": "2020-09-27T15:27:24.612657",
     "status": "completed"
    },
    "tags": []
   },
   "outputs": [],
   "source": [
    "genre = released.genres.str.get_dummies(sep=', ').set_index(release_year).sort_index()\n",
    "genre_yearsum = genre.resample('Y').sum()\n",
    "genre_yearsum = genre_yearsum.loc[(genre_yearsum != 0).any(axis=1)]"
   ]
  },
  {
   "cell_type": "code",
   "execution_count": 21,
   "metadata": {
    "execution": {
     "iopub.execute_input": "2020-09-27T15:27:26.007053Z",
     "iopub.status.busy": "2020-09-27T15:27:26.006278Z",
     "iopub.status.idle": "2020-09-27T15:30:11.189472Z",
     "shell.execute_reply": "2020-09-27T15:30:11.187947Z"
    },
    "papermill": {
     "duration": 165.279717,
     "end_time": "2020-09-27T15:30:11.189645",
     "exception": false,
     "start_time": "2020-09-27T15:27:25.909928",
     "status": "completed"
    },
    "scrolled": false,
    "tags": []
   },
   "outputs": [],
   "source": [
    "animation = bcr.bar_chart_race(genre_yearsum, period_fmt='%Y', fixed_order=False, n_bars=5,\n",
    "                   interpolate_period=False, period_length=2000,\n",
    "                  steps_per_period=20) "
   ]
  },
  {
   "cell_type": "markdown",
   "metadata": {
    "papermill": {
     "duration": 0.205384,
     "end_time": "2020-09-27T15:30:11.607652",
     "exception": false,
     "start_time": "2020-09-27T15:30:11.402268",
     "status": "completed"
    },
    "tags": []
   },
   "source": [
    "Here are the summaries of the top 5 genres over the years:\n",
    "- 1874-1900: Not many data points in the dataset. The top 5 genres are: Documentary, Comedy, Fantasy, Romance and Action.\n",
    "- 1900-1930: The taste of movies change a lot. Now the top 5 genres are: Drama, Romance, Comedy, Crime and Action.\n",
    "- 1930-1970: Most of the genres are still among the most-popular. However, more people like Thriller and Horror than Romance and Crime.\n",
    "- 1970-present: The Documentary comes back into play. It becomes the fifth in the list. "
   ]
  }
 ],
 "metadata": {
  "kernelspec": {
   "display_name": "Python 3",
   "language": "python",
   "name": "python3"
  },
  "language_info": {
   "codemirror_mode": {
    "name": "ipython",
    "version": 3
   },
   "file_extension": ".py",
   "mimetype": "text/x-python",
   "name": "python",
   "nbconvert_exporter": "python",
   "pygments_lexer": "ipython3",
   "version": "3.8.5"
  },
  "papermill": {
   "duration": 228.314025,
   "end_time": "2020-09-27T15:30:14.390844",
   "environment_variables": {},
   "exception": null,
   "input_path": "__notebook__.ipynb",
   "output_path": "__notebook__.ipynb",
   "parameters": {},
   "start_time": "2020-09-27T15:26:26.076819",
   "version": "2.1.0"
  }
 },
 "nbformat": 4,
 "nbformat_minor": 4
}
